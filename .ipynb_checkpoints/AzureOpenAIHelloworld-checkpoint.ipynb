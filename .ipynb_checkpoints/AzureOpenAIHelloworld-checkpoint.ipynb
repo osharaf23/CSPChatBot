{
 "cells": [
  {
   "cell_type": "code",
   "execution_count": 1,
   "id": "29f62cb7",
   "metadata": {},
   "outputs": [],
   "source": [
    "# import requests\n",
    "# import openai\n",
    "# openai.api_type=\"azure\"\n",
    "# openai.api_version =  \"2023-03-15-preview\"\n",
    "# openai.api_key = \"b4217713776a449ba0cef52b44344627\"\n",
    "# openai.api_base = \"https://test-azure-embefding.openai.azure.com/\"\n",
    "# url = openai.api_base+\"openai/deployments?api-version=2023-03-15-preview\"\n",
    "# r= requests.get(url, headers={\"api-key\":\"b4217713776a449ba0cef52b44344627\"})\n",
    "\n",
    "import requests\n",
    "import openai\n",
    "openai.api_type=\"azure\"\n",
    "openai.api_version =  \"2023-03-15\"\n",
    "openai.api_key = \"8f6e575820f2473da9822c2fe9ce5221\"\n",
    "openai.api_base = \"https://16kcontexts.openai.azure.com/\"\n",
    "url = openai.api_base+\"openai/deployments?api-version=2023-03-15-preview\"\n",
    "r= requests.get(url, headers={\"api-key\":\"8f6e575820f2473da9822c2fe9ce5221\"})"
   ]
  },
  {
   "cell_type": "code",
   "execution_count": 2,
   "id": "454b591e",
   "metadata": {},
   "outputs": [
    {
     "name": "stdout",
     "output_type": "stream",
     "text": [
      "{\n",
      "  \"data\": [\n",
      "    {\n",
      "      \"scale_settings\": {\n",
      "        \"scale_type\": \"standard\"\n",
      "      },\n",
      "      \"model\": \"gpt-35-turbo-16k\",\n",
      "      \"owner\": \"organization-owner\",\n",
      "      \"id\": \"gpt-35-turbo-16k\",\n",
      "      \"status\": \"succeeded\",\n",
      "      \"created_at\": 1689106114,\n",
      "      \"updated_at\": 1689106114,\n",
      "      \"object\": \"deployment\"\n",
      "    }\n",
      "  ],\n",
      "  \"object\": \"list\"\n",
      "}\n"
     ]
    }
   ],
   "source": [
    "print(r.text)"
   ]
  },
  {
   "cell_type": "code",
   "execution_count": 3,
   "id": "4244660a",
   "metadata": {},
   "outputs": [
    {
     "ename": "ModuleNotFoundError",
     "evalue": "No module named 'langchain'",
     "output_type": "error",
     "traceback": [
      "\u001b[0;31m---------------------------------------------------------------------------\u001b[0m",
      "\u001b[0;31mModuleNotFoundError\u001b[0m                       Traceback (most recent call last)",
      "Cell \u001b[0;32mIn[3], line 1\u001b[0m\n\u001b[0;32m----> 1\u001b[0m \u001b[38;5;28;01mfrom\u001b[39;00m \u001b[38;5;21;01mlangchain\u001b[39;00m\u001b[38;5;21;01m.\u001b[39;00m\u001b[38;5;21;01mchat_models\u001b[39;00m \u001b[38;5;28;01mimport\u001b[39;00m AzureChatOpenAI\n\u001b[1;32m      2\u001b[0m \u001b[38;5;28;01mfrom\u001b[39;00m \u001b[38;5;21;01mlangchain\u001b[39;00m\u001b[38;5;21;01m.\u001b[39;00m\u001b[38;5;21;01mschema\u001b[39;00m \u001b[38;5;28;01mimport\u001b[39;00m HumanMessage\n\u001b[1;32m      3\u001b[0m model \u001b[38;5;241m=\u001b[39m AzureChatOpenAI(\n\u001b[1;32m      4\u001b[0m     openai_api_base\u001b[38;5;241m=\u001b[39m\u001b[38;5;124m\"\u001b[39m\u001b[38;5;124mhttps://test-azure-embefding.openai.azure.com/\u001b[39m\u001b[38;5;124m\"\u001b[39m,\n\u001b[1;32m      5\u001b[0m     openai_api_version\u001b[38;5;241m=\u001b[39m\u001b[38;5;124m\"\u001b[39m\u001b[38;5;124m2023-03-15-preview\u001b[39m\u001b[38;5;124m\"\u001b[39m,\n\u001b[0;32m   (...)\u001b[0m\n\u001b[1;32m      8\u001b[0m     openai_api_type\u001b[38;5;241m=\u001b[39m\u001b[38;5;124m\"\u001b[39m\u001b[38;5;124mazure\u001b[39m\u001b[38;5;124m\"\u001b[39m,\n\u001b[1;32m      9\u001b[0m )\n",
      "\u001b[0;31mModuleNotFoundError\u001b[0m: No module named 'langchain'"
     ]
    }
   ],
   "source": [
    "from langchain.chat_models import AzureChatOpenAI\n",
    "from langchain.schema import HumanMessage\n",
    "model = AzureChatOpenAI(\n",
    "    openai_api_base=\"https://test-azure-embefding.openai.azure.com/\",\n",
    "    openai_api_version=\"2023-03-15-preview\",\n",
    "    deployment_name=\"gpt-35-turbo\",\n",
    "    openai_api_key=\"b4217713776a449ba0cef52b44344627\",\n",
    "    openai_api_type=\"azure\",\n",
    ")"
   ]
  },
  {
   "cell_type": "code",
   "execution_count": 12,
   "id": "5e973b96",
   "metadata": {},
   "outputs": [
    {
     "data": {
      "text/plain": [
       "AIMessage(content=\"J'aime programmer.\", additional_kwargs={}, example=False)"
      ]
     },
     "execution_count": 12,
     "metadata": {},
     "output_type": "execute_result"
    }
   ],
   "source": [
    "model(\n",
    "    [\n",
    "        HumanMessage(\n",
    "            content=\"Translate this sentence from English to French. I love programming.\"\n",
    "        )\n",
    "    ]\n",
    ")"
   ]
  },
  {
   "cell_type": "code",
   "execution_count": null,
   "id": "42a4794c",
   "metadata": {},
   "outputs": [],
   "source": []
  }
 ],
 "metadata": {
  "kernelspec": {
   "display_name": "Python 3 (ipykernel)",
   "language": "python",
   "name": "python3"
  },
  "language_info": {
   "codemirror_mode": {
    "name": "ipython",
    "version": 3
   },
   "file_extension": ".py",
   "mimetype": "text/x-python",
   "name": "python",
   "nbconvert_exporter": "python",
   "pygments_lexer": "ipython3",
   "version": "3.10.9"
  }
 },
 "nbformat": 4,
 "nbformat_minor": 5
}
